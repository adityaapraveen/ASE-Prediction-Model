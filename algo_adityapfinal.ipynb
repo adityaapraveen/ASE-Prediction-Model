{
  "cells": [
    {
      "cell_type": "markdown",
      "metadata": {
        "id": "7GF8wOeBVhTV"
      },
      "source": [
        "# Prediction of Heart Attack Using Machine Learning Algorithms and Deep Learning\n",
        "\n",
        "#### By Aditya Praveen"
      ]
    },
    {
      "cell_type": "code",
      "execution_count": 4,
      "metadata": {
        "id": "PQZKc7uBVhTZ"
      },
      "outputs": [],
      "source": [
        "import pandas as pd\n",
        "import numpy as np\n",
        "from sklearn.model_selection import train_test_split\n",
        "from sklearn.metrics import accuracy_score"
      ]
    },
    {
      "cell_type": "code",
      "source": [
        "from google.colab import drive\n",
        "drive.mount('/content/drive')"
      ],
      "metadata": {
        "colab": {
          "base_uri": "https://localhost:8080/"
        },
        "id": "3yu96Qf5Zw7D",
        "outputId": "1a7e391b-3fec-48db-89f5-aa7b6096a0c5"
      },
      "execution_count": 5,
      "outputs": [
        {
          "output_type": "stream",
          "name": "stdout",
          "text": [
            "Drive already mounted at /content/drive; to attempt to forcibly remount, call drive.mount(\"/content/drive\", force_remount=True).\n"
          ]
        }
      ]
    },
    {
      "cell_type": "code",
      "source": [
        "data = pd.read_csv(\"/content/drive/MyDrive/adityap/heart (1).csv\")"
      ],
      "metadata": {
        "id": "iYaouLBfZ4Cd"
      },
      "execution_count": 6,
      "outputs": []
    },
    {
      "cell_type": "markdown",
      "metadata": {
        "id": "anxA1iefVhTc"
      },
      "source": [
        "### Decision Tree Classifier"
      ]
    },
    {
      "cell_type": "code",
      "execution_count": 7,
      "metadata": {
        "id": "OYlmU3VYVhTc"
      },
      "outputs": [],
      "source": [
        "from sklearn.tree import DecisionTreeClassifier"
      ]
    },
    {
      "cell_type": "code",
      "execution_count": 8,
      "metadata": {
        "id": "eLpfO_LIVhTd"
      },
      "outputs": [],
      "source": [
        "X = data.drop(\"target\", axis=1) # Features are all columns except target\n",
        "y = data[\"target\"] # Target is the column named target\n",
        "\n",
        "X_train, X_test, y_train, y_test = train_test_split(X, y, test_size=0.2, random_state=7)"
      ]
    },
    {
      "cell_type": "code",
      "execution_count": 9,
      "metadata": {
        "id": "tlRDdX8ZVhTd"
      },
      "outputs": [],
      "source": [
        "reg = DecisionTreeClassifier(criterion = 'entropy', random_state = 0)\n",
        "reg.fit(X_train,y_train)\n",
        "\n",
        "Y_pred = reg.predict(X_test)"
      ]
    },
    {
      "cell_type": "code",
      "execution_count": 10,
      "metadata": {
        "colab": {
          "base_uri": "https://localhost:8080/"
        },
        "id": "Vc0wVEqDVhTe",
        "outputId": "af1a88c1-cf62-4b8e-cd19-fee7b862b3ff"
      },
      "outputs": [
        {
          "output_type": "stream",
          "name": "stdout",
          "text": [
            "Accuracy - test set: 100.00%\n"
          ]
        }
      ],
      "source": [
        "#accuracy on test set\n",
        "accuracy = reg.score(X_test, y_test)\n",
        "print(\"Accuracy - test set: %.2f%%\" % (accuracy*100.0))"
      ]
    },
    {
      "cell_type": "markdown",
      "metadata": {
        "id": "ToxYCVAVVhTf"
      },
      "source": [
        "### Random Forest Classifier"
      ]
    },
    {
      "cell_type": "code",
      "execution_count": 11,
      "metadata": {
        "id": "zXXFjABCVhTf"
      },
      "outputs": [],
      "source": [
        "from sklearn.ensemble import RandomForestClassifier"
      ]
    },
    {
      "cell_type": "code",
      "execution_count": 12,
      "metadata": {
        "id": "8sFxTyAUVhTg"
      },
      "outputs": [],
      "source": [
        "X = data.drop(\"target\", axis=1) # Features are all columns except target\n",
        "y = data[\"target\"] # Target is the column named target\n",
        "\n",
        "X_train, X_test, y_train, y_test = train_test_split(X, y, test_size=0.3, random_state=5)"
      ]
    },
    {
      "cell_type": "code",
      "execution_count": 13,
      "metadata": {
        "id": "uw4fvSLfVhTg"
      },
      "outputs": [],
      "source": [
        "reg = RandomForestClassifier(criterion = 'entropy', random_state = 0)\n",
        "reg.fit(X_train,y_train)\n",
        "Y_pred = reg.predict(X_test)"
      ]
    },
    {
      "cell_type": "code",
      "execution_count": 14,
      "metadata": {
        "colab": {
          "base_uri": "https://localhost:8080/"
        },
        "id": "kaDMVQYrVhTg",
        "outputId": "42bd8def-8430-4f2a-a3f2-dd88e5b5aab1"
      },
      "outputs": [
        {
          "output_type": "stream",
          "name": "stdout",
          "text": [
            "Accuracy - test set: 100.00%\n"
          ]
        }
      ],
      "source": [
        "#accuracy on test set\n",
        "accuracy = reg.score(X_test, y_test)\n",
        "print(\"Accuracy - test set: %.2f%%\" % (accuracy*100.0))"
      ]
    },
    {
      "cell_type": "markdown",
      "metadata": {
        "id": "0NJAhSoLVhTg"
      },
      "source": [
        "### Support vector machine (SVM)"
      ]
    },
    {
      "cell_type": "code",
      "execution_count": 15,
      "metadata": {
        "id": "3LN-wjqyVhTh"
      },
      "outputs": [],
      "source": [
        "from sklearn.svm import SVC"
      ]
    },
    {
      "cell_type": "code",
      "execution_count": 16,
      "metadata": {
        "id": "DH16vT2zVhTh"
      },
      "outputs": [],
      "source": [
        "X = data.drop(\"target\", axis=1) # Features are all columns except target\n",
        "y = data[\"target\"] # Target is the column named target\n",
        "\n",
        "X_train, X_test, y_train, y_test = train_test_split(X, y, test_size=0.3, random_state=5)"
      ]
    },
    {
      "cell_type": "code",
      "execution_count": 17,
      "metadata": {
        "id": "Rd3wyYO8VhTh"
      },
      "outputs": [],
      "source": [
        "reg = SVC()\n",
        "reg.fit(X_train,y_train)\n",
        "Y_pred = reg.predict(X_test)"
      ]
    },
    {
      "cell_type": "code",
      "execution_count": 18,
      "metadata": {
        "colab": {
          "base_uri": "https://localhost:8080/"
        },
        "id": "_YbJs9_vVhTk",
        "outputId": "848f25dc-8817-4eda-de71-9875caba6889"
      },
      "outputs": [
        {
          "output_type": "stream",
          "name": "stdout",
          "text": [
            "Accuracy - test set: 70.78%\n"
          ]
        }
      ],
      "source": [
        "#accuracy on test set\n",
        "accuracy = reg.score(X_test, y_test)\n",
        "print(\"Accuracy - test set: %.2f%%\" % (accuracy*100.0))"
      ]
    },
    {
      "cell_type": "markdown",
      "metadata": {
        "id": "OLgEXZqUVhTl"
      },
      "source": [
        "### Logistic Regression"
      ]
    },
    {
      "cell_type": "code",
      "execution_count": 19,
      "metadata": {
        "id": "6jz4uWMYVhTl"
      },
      "outputs": [],
      "source": [
        "from sklearn.linear_model import LogisticRegression"
      ]
    },
    {
      "cell_type": "code",
      "execution_count": 20,
      "metadata": {
        "id": "bFV39fnwVhTl"
      },
      "outputs": [],
      "source": [
        "X = data.drop(\"target\", axis=1) # Features are all columns except target\n",
        "y = data[\"target\"] # Target is the column named target\n",
        "\n",
        "X_train, X_test, y_train, y_test = train_test_split(X, y, test_size=0.2, random_state=7)"
      ]
    },
    {
      "cell_type": "code",
      "execution_count": 21,
      "metadata": {
        "id": "olYqWVcxVhTm"
      },
      "outputs": [],
      "source": [
        "reg = LogisticRegression(max_iter=1000, random_state=0)\n",
        "reg.fit(X_train,y_train)\n",
        "Y_pred = reg.predict(X_test)"
      ]
    },
    {
      "cell_type": "code",
      "execution_count": 22,
      "metadata": {
        "colab": {
          "base_uri": "https://localhost:8080/"
        },
        "id": "j5bfJV1bVhTm",
        "outputId": "bb556c4c-3dae-4dd5-9629-5fe747b617bf"
      },
      "outputs": [
        {
          "output_type": "stream",
          "name": "stdout",
          "text": [
            "Accuracy - test set: 87.80%\n"
          ]
        }
      ],
      "source": [
        "#accuracy on test set\n",
        "accuracy = reg.score(X_test, y_test)\n",
        "print(\"Accuracy - test set: %.2f%%\" % (accuracy*100.0))"
      ]
    },
    {
      "cell_type": "markdown",
      "metadata": {
        "id": "DrAjVxlyVhTm"
      },
      "source": [
        "### K-Nearest Neighbour (KNN)"
      ]
    },
    {
      "cell_type": "code",
      "execution_count": 23,
      "metadata": {
        "id": "kYiOKdJ_VhTm"
      },
      "outputs": [],
      "source": [
        "from sklearn.neighbors import KNeighborsClassifier"
      ]
    },
    {
      "cell_type": "code",
      "execution_count": 24,
      "metadata": {
        "id": "kBe01vunVhTm"
      },
      "outputs": [],
      "source": [
        "X = data.drop(\"target\", axis=1) # Features are all columns except target\n",
        "y = data[\"target\"] # Target is the column named target\n",
        "\n",
        "X_train, X_test, y_train, y_test = train_test_split(X, y, test_size=0.2, random_state=7)"
      ]
    },
    {
      "cell_type": "code",
      "execution_count": 25,
      "metadata": {
        "id": "Hxyy6aeFVhTm"
      },
      "outputs": [],
      "source": [
        "reg = KNeighborsClassifier()\n",
        "reg.fit(X_train,y_train)\n",
        "Y_pred = reg.predict(X_test)"
      ]
    },
    {
      "cell_type": "code",
      "execution_count": 26,
      "metadata": {
        "colab": {
          "base_uri": "https://localhost:8080/"
        },
        "id": "Sc3HO6glVhTn",
        "outputId": "595a8455-df2b-4891-9f3d-c39b5ffa24d7"
      },
      "outputs": [
        {
          "output_type": "stream",
          "name": "stdout",
          "text": [
            "Accuracy - test set: 74.63%\n"
          ]
        }
      ],
      "source": [
        "#accuracy on test set\n",
        "accuracy = reg.score(X_test, y_test)\n",
        "print(\"Accuracy - test set: %.2f%%\" % (accuracy*100.0))"
      ]
    },
    {
      "cell_type": "markdown",
      "metadata": {
        "id": "xoopswxAVhTn"
      },
      "source": [
        "### Naive Byes"
      ]
    },
    {
      "cell_type": "code",
      "execution_count": 27,
      "metadata": {
        "id": "ifB3CpbGVhTn"
      },
      "outputs": [],
      "source": [
        "from sklearn.naive_bayes import GaussianNB"
      ]
    },
    {
      "cell_type": "code",
      "execution_count": 28,
      "metadata": {
        "id": "DCXlLs4KVhTn"
      },
      "outputs": [],
      "source": [
        "X = data.drop(\"target\", axis=1) # Features are all columns except target\n",
        "y = data[\"target\"] # Target is the column named target\n",
        "\n",
        "X_train, X_test, y_train, y_test = train_test_split(X, y, test_size=0.2, random_state=7)"
      ]
    },
    {
      "cell_type": "code",
      "execution_count": 29,
      "metadata": {
        "id": "d_F3qdQMVhTn"
      },
      "outputs": [],
      "source": [
        "reg = GaussianNB()\n",
        "reg.fit(X_train,y_train)\n",
        "Y_pred = reg.predict(X_test)"
      ]
    },
    {
      "cell_type": "code",
      "execution_count": 30,
      "metadata": {
        "colab": {
          "base_uri": "https://localhost:8080/"
        },
        "id": "SkxNds2VVhTn",
        "outputId": "1eb69dd5-f65a-4953-9d13-893f5c931d84"
      },
      "outputs": [
        {
          "output_type": "stream",
          "name": "stdout",
          "text": [
            "Accuracy - test set: 84.88%\n"
          ]
        }
      ],
      "source": [
        "#accuracy on test set\n",
        "accuracy = reg.score(X_test, y_test)\n",
        "print(\"Accuracy - test set: %.2f%%\" % (accuracy*100.0))"
      ]
    },
    {
      "cell_type": "markdown",
      "metadata": {
        "id": "kjz6iO9zVhTn"
      },
      "source": [
        "### Deep Neural Networks (DNN)"
      ]
    },
    {
      "cell_type": "code",
      "execution_count": 31,
      "metadata": {
        "id": "XR8azEfKVhTo"
      },
      "outputs": [],
      "source": [
        "from keras.models import Sequential\n",
        "from keras.layers import Dense"
      ]
    },
    {
      "cell_type": "code",
      "execution_count": 33,
      "metadata": {
        "id": "vmf-hfqFVhTo"
      },
      "outputs": [],
      "source": [
        "df = pd.read_csv(\"/content/drive/MyDrive/adityap/heart (1).csv\")\n",
        "x=df.drop('target',axis=1)\n",
        "y=df['target']\n",
        "x_train,x_test,y_train,y_test = train_test_split(x,y,test_size=0.25,random_state=42)"
      ]
    },
    {
      "cell_type": "code",
      "execution_count": 34,
      "metadata": {
        "id": "DyABquGuVhTo"
      },
      "outputs": [],
      "source": [
        "model = Sequential()\n",
        "model.add(Dense(500, activation='relu', input_dim=13))\n",
        "model.add(Dense(100, activation='relu'))\n",
        "model.add(Dense(50, activation='relu'))\n",
        "model.add(Dense(1, activation='sigmoid'))\n"
      ]
    },
    {
      "cell_type": "code",
      "execution_count": 35,
      "metadata": {
        "colab": {
          "base_uri": "https://localhost:8080/"
        },
        "id": "esU6CPhxVhTo",
        "outputId": "1764f3f6-6fe8-411f-d6e8-36f5aac8019b"
      },
      "outputs": [
        {
          "output_type": "stream",
          "name": "stdout",
          "text": [
            "Epoch 1/100\n",
            "24/24 [==============================] - 2s 6ms/step - loss: 2.0200 - accuracy: 0.5365\n",
            "Epoch 2/100\n",
            "24/24 [==============================] - 0s 6ms/step - loss: 0.8126 - accuracy: 0.6380\n",
            "Epoch 3/100\n",
            "24/24 [==============================] - 0s 6ms/step - loss: 0.5500 - accuracy: 0.7174\n",
            "Epoch 4/100\n",
            "24/24 [==============================] - 0s 4ms/step - loss: 0.5955 - accuracy: 0.7018\n",
            "Epoch 5/100\n",
            "24/24 [==============================] - 0s 6ms/step - loss: 0.5707 - accuracy: 0.7031\n",
            "Epoch 6/100\n",
            "24/24 [==============================] - 0s 4ms/step - loss: 0.5870 - accuracy: 0.7083\n",
            "Epoch 7/100\n",
            "24/24 [==============================] - 0s 6ms/step - loss: 0.5143 - accuracy: 0.7448\n",
            "Epoch 8/100\n",
            "24/24 [==============================] - 0s 6ms/step - loss: 0.5221 - accuracy: 0.7539\n",
            "Epoch 9/100\n",
            "24/24 [==============================] - 0s 5ms/step - loss: 0.5193 - accuracy: 0.7357\n",
            "Epoch 10/100\n",
            "24/24 [==============================] - 0s 6ms/step - loss: 0.4229 - accuracy: 0.8099\n",
            "Epoch 11/100\n",
            "24/24 [==============================] - 0s 5ms/step - loss: 0.4323 - accuracy: 0.7943\n",
            "Epoch 12/100\n",
            "24/24 [==============================] - 0s 5ms/step - loss: 0.4668 - accuracy: 0.7930\n",
            "Epoch 13/100\n",
            "24/24 [==============================] - 0s 5ms/step - loss: 0.4921 - accuracy: 0.7578\n",
            "Epoch 14/100\n",
            "24/24 [==============================] - 0s 5ms/step - loss: 0.4552 - accuracy: 0.7982\n",
            "Epoch 15/100\n",
            "24/24 [==============================] - 0s 4ms/step - loss: 0.4194 - accuracy: 0.8086\n",
            "Epoch 16/100\n",
            "24/24 [==============================] - 0s 6ms/step - loss: 0.4799 - accuracy: 0.7917\n",
            "Epoch 17/100\n",
            "24/24 [==============================] - 0s 5ms/step - loss: 0.3915 - accuracy: 0.8216\n",
            "Epoch 18/100\n",
            "24/24 [==============================] - 0s 6ms/step - loss: 0.3717 - accuracy: 0.8372\n",
            "Epoch 19/100\n",
            "24/24 [==============================] - 0s 5ms/step - loss: 0.4185 - accuracy: 0.8034\n",
            "Epoch 20/100\n",
            "24/24 [==============================] - 0s 5ms/step - loss: 0.3944 - accuracy: 0.8151\n",
            "Epoch 21/100\n",
            "24/24 [==============================] - 0s 5ms/step - loss: 0.3625 - accuracy: 0.8490\n",
            "Epoch 22/100\n",
            "24/24 [==============================] - 0s 5ms/step - loss: 0.3528 - accuracy: 0.8620\n",
            "Epoch 23/100\n",
            "24/24 [==============================] - 0s 5ms/step - loss: 0.3589 - accuracy: 0.8581\n",
            "Epoch 24/100\n",
            "24/24 [==============================] - 0s 6ms/step - loss: 0.3907 - accuracy: 0.8216\n",
            "Epoch 25/100\n",
            "24/24 [==============================] - 0s 12ms/step - loss: 0.4480 - accuracy: 0.8021\n",
            "Epoch 26/100\n",
            "24/24 [==============================] - 0s 16ms/step - loss: 0.6200 - accuracy: 0.7370\n",
            "Epoch 27/100\n",
            "24/24 [==============================] - 0s 18ms/step - loss: 0.4453 - accuracy: 0.8073\n",
            "Epoch 28/100\n",
            "24/24 [==============================] - 0s 12ms/step - loss: 0.3482 - accuracy: 0.8490\n",
            "Epoch 29/100\n",
            "24/24 [==============================] - 0s 4ms/step - loss: 0.3877 - accuracy: 0.8333\n",
            "Epoch 30/100\n",
            "24/24 [==============================] - 0s 5ms/step - loss: 0.4055 - accuracy: 0.8268\n",
            "Epoch 31/100\n",
            "24/24 [==============================] - 0s 6ms/step - loss: 0.3668 - accuracy: 0.8594\n",
            "Epoch 32/100\n",
            "24/24 [==============================] - 0s 5ms/step - loss: 0.3447 - accuracy: 0.8529\n",
            "Epoch 33/100\n",
            "24/24 [==============================] - 0s 5ms/step - loss: 0.3556 - accuracy: 0.8411\n",
            "Epoch 34/100\n",
            "24/24 [==============================] - 0s 5ms/step - loss: 0.3503 - accuracy: 0.8398\n",
            "Epoch 35/100\n",
            "24/24 [==============================] - 0s 4ms/step - loss: 0.3426 - accuracy: 0.8529\n",
            "Epoch 36/100\n",
            "24/24 [==============================] - 0s 5ms/step - loss: 0.3510 - accuracy: 0.8529\n",
            "Epoch 37/100\n",
            "24/24 [==============================] - 0s 4ms/step - loss: 0.3570 - accuracy: 0.8346\n",
            "Epoch 38/100\n",
            "24/24 [==============================] - 0s 5ms/step - loss: 0.3390 - accuracy: 0.8594\n",
            "Epoch 39/100\n",
            "24/24 [==============================] - 0s 5ms/step - loss: 0.3383 - accuracy: 0.8385\n",
            "Epoch 40/100\n",
            "24/24 [==============================] - 0s 5ms/step - loss: 0.3665 - accuracy: 0.8372\n",
            "Epoch 41/100\n",
            "24/24 [==============================] - 0s 5ms/step - loss: 0.3547 - accuracy: 0.8411\n",
            "Epoch 42/100\n",
            "24/24 [==============================] - 0s 6ms/step - loss: 0.3949 - accuracy: 0.8216\n",
            "Epoch 43/100\n",
            "24/24 [==============================] - 0s 5ms/step - loss: 0.4186 - accuracy: 0.8164\n",
            "Epoch 44/100\n",
            "24/24 [==============================] - 0s 4ms/step - loss: 0.5109 - accuracy: 0.7734\n",
            "Epoch 45/100\n",
            "24/24 [==============================] - 0s 4ms/step - loss: 0.4004 - accuracy: 0.8073\n",
            "Epoch 46/100\n",
            "24/24 [==============================] - 0s 4ms/step - loss: 0.3506 - accuracy: 0.8503\n",
            "Epoch 47/100\n",
            "24/24 [==============================] - 0s 4ms/step - loss: 0.3629 - accuracy: 0.8529\n",
            "Epoch 48/100\n",
            "24/24 [==============================] - 0s 4ms/step - loss: 0.3482 - accuracy: 0.8490\n",
            "Epoch 49/100\n",
            "24/24 [==============================] - 0s 4ms/step - loss: 0.3475 - accuracy: 0.8516\n",
            "Epoch 50/100\n",
            "24/24 [==============================] - 0s 5ms/step - loss: 0.3508 - accuracy: 0.8398\n",
            "Epoch 51/100\n",
            "24/24 [==============================] - 0s 5ms/step - loss: 0.3354 - accuracy: 0.8424\n",
            "Epoch 52/100\n",
            "24/24 [==============================] - 0s 4ms/step - loss: 0.3264 - accuracy: 0.8698\n",
            "Epoch 53/100\n",
            "24/24 [==============================] - 0s 5ms/step - loss: 0.3331 - accuracy: 0.8529\n",
            "Epoch 54/100\n",
            "24/24 [==============================] - 0s 5ms/step - loss: 0.3368 - accuracy: 0.8594\n",
            "Epoch 55/100\n",
            "24/24 [==============================] - 0s 5ms/step - loss: 0.3341 - accuracy: 0.8529\n",
            "Epoch 56/100\n",
            "24/24 [==============================] - 0s 5ms/step - loss: 0.3288 - accuracy: 0.8594\n",
            "Epoch 57/100\n",
            "24/24 [==============================] - 0s 4ms/step - loss: 0.3263 - accuracy: 0.8568\n",
            "Epoch 58/100\n",
            "24/24 [==============================] - 0s 3ms/step - loss: 0.3184 - accuracy: 0.8750\n",
            "Epoch 59/100\n",
            "24/24 [==============================] - 0s 3ms/step - loss: 0.3673 - accuracy: 0.8320\n",
            "Epoch 60/100\n",
            "24/24 [==============================] - 0s 3ms/step - loss: 0.3608 - accuracy: 0.8346\n",
            "Epoch 61/100\n",
            "24/24 [==============================] - 0s 3ms/step - loss: 0.3307 - accuracy: 0.8646\n",
            "Epoch 62/100\n",
            "24/24 [==============================] - 0s 3ms/step - loss: 0.3142 - accuracy: 0.8698\n",
            "Epoch 63/100\n",
            "24/24 [==============================] - 0s 3ms/step - loss: 0.3260 - accuracy: 0.8672\n",
            "Epoch 64/100\n",
            "24/24 [==============================] - 0s 4ms/step - loss: 0.3136 - accuracy: 0.8724\n",
            "Epoch 65/100\n",
            "24/24 [==============================] - 0s 4ms/step - loss: 0.3272 - accuracy: 0.8607\n",
            "Epoch 66/100\n",
            "24/24 [==============================] - 0s 3ms/step - loss: 0.3227 - accuracy: 0.8581\n",
            "Epoch 67/100\n",
            "24/24 [==============================] - 0s 3ms/step - loss: 0.3208 - accuracy: 0.8607\n",
            "Epoch 68/100\n",
            "24/24 [==============================] - 0s 4ms/step - loss: 0.3485 - accuracy: 0.8424\n",
            "Epoch 69/100\n",
            "24/24 [==============================] - 0s 4ms/step - loss: 0.3497 - accuracy: 0.8451\n",
            "Epoch 70/100\n",
            "24/24 [==============================] - 0s 3ms/step - loss: 0.3110 - accuracy: 0.8633\n",
            "Epoch 71/100\n",
            "24/24 [==============================] - 0s 3ms/step - loss: 0.3066 - accuracy: 0.8815\n",
            "Epoch 72/100\n",
            "24/24 [==============================] - 0s 4ms/step - loss: 0.3272 - accuracy: 0.8451\n",
            "Epoch 73/100\n",
            "24/24 [==============================] - 0s 3ms/step - loss: 0.3288 - accuracy: 0.8633\n",
            "Epoch 74/100\n",
            "24/24 [==============================] - 0s 3ms/step - loss: 0.3168 - accuracy: 0.8711\n",
            "Epoch 75/100\n",
            "24/24 [==============================] - 0s 4ms/step - loss: 0.3375 - accuracy: 0.8529\n",
            "Epoch 76/100\n",
            "24/24 [==============================] - 0s 3ms/step - loss: 0.3166 - accuracy: 0.8672\n",
            "Epoch 77/100\n",
            "24/24 [==============================] - 0s 3ms/step - loss: 0.3360 - accuracy: 0.8503\n",
            "Epoch 78/100\n",
            "24/24 [==============================] - 0s 3ms/step - loss: 0.3723 - accuracy: 0.8372\n",
            "Epoch 79/100\n",
            "24/24 [==============================] - 0s 3ms/step - loss: 0.3137 - accuracy: 0.8724\n",
            "Epoch 80/100\n",
            "24/24 [==============================] - 0s 3ms/step - loss: 0.3054 - accuracy: 0.8672\n",
            "Epoch 81/100\n",
            "24/24 [==============================] - 0s 3ms/step - loss: 0.2992 - accuracy: 0.8802\n",
            "Epoch 82/100\n",
            "24/24 [==============================] - 0s 3ms/step - loss: 0.3168 - accuracy: 0.8685\n",
            "Epoch 83/100\n",
            "24/24 [==============================] - 0s 4ms/step - loss: 0.3051 - accuracy: 0.8685\n",
            "Epoch 84/100\n",
            "24/24 [==============================] - 0s 4ms/step - loss: 0.3165 - accuracy: 0.8620\n",
            "Epoch 85/100\n",
            "24/24 [==============================] - 0s 3ms/step - loss: 0.3170 - accuracy: 0.8737\n",
            "Epoch 86/100\n",
            "24/24 [==============================] - 0s 3ms/step - loss: 0.3035 - accuracy: 0.8633\n",
            "Epoch 87/100\n",
            "24/24 [==============================] - 0s 3ms/step - loss: 0.3684 - accuracy: 0.8411\n",
            "Epoch 88/100\n",
            "24/24 [==============================] - 0s 3ms/step - loss: 0.3399 - accuracy: 0.8477\n",
            "Epoch 89/100\n",
            "24/24 [==============================] - 0s 3ms/step - loss: 0.4219 - accuracy: 0.8138\n",
            "Epoch 90/100\n",
            "24/24 [==============================] - 0s 3ms/step - loss: 0.3268 - accuracy: 0.8607\n",
            "Epoch 91/100\n",
            "24/24 [==============================] - 0s 3ms/step - loss: 0.3403 - accuracy: 0.8424\n",
            "Epoch 92/100\n",
            "24/24 [==============================] - 0s 3ms/step - loss: 0.3053 - accuracy: 0.8724\n",
            "Epoch 93/100\n",
            "24/24 [==============================] - 0s 3ms/step - loss: 0.3055 - accuracy: 0.8685\n",
            "Epoch 94/100\n",
            "24/24 [==============================] - 0s 3ms/step - loss: 0.3977 - accuracy: 0.8372\n",
            "Epoch 95/100\n",
            "24/24 [==============================] - 0s 3ms/step - loss: 0.3327 - accuracy: 0.8477\n",
            "Epoch 96/100\n",
            "24/24 [==============================] - 0s 3ms/step - loss: 0.3188 - accuracy: 0.8607\n",
            "Epoch 97/100\n",
            "24/24 [==============================] - 0s 3ms/step - loss: 0.3102 - accuracy: 0.8516\n",
            "Epoch 98/100\n",
            "24/24 [==============================] - 0s 3ms/step - loss: 0.3094 - accuracy: 0.8620\n",
            "Epoch 99/100\n",
            "24/24 [==============================] - 0s 3ms/step - loss: 0.3158 - accuracy: 0.8763\n",
            "Epoch 100/100\n",
            "24/24 [==============================] - 0s 3ms/step - loss: 0.2972 - accuracy: 0.8828\n",
            "9/9 [==============================] - 0s 2ms/step\n",
            "[[9.73086357e-01]\n",
            " [9.66492474e-01]\n",
            " [1.94793344e-02]\n",
            " [9.00219023e-01]\n",
            " [3.32663432e-02]\n",
            " [6.57819629e-01]\n",
            " [1.38496188e-02]\n",
            " [1.38107222e-02]\n",
            " [7.12255120e-01]\n",
            " [7.52156018e-04]\n",
            " [9.23870265e-01]\n",
            " [2.69534718e-03]\n",
            " [6.59662008e-01]\n",
            " [9.99999940e-01]\n",
            " [2.33200360e-02]\n",
            " [9.15520549e-01]\n",
            " [5.68959909e-03]\n",
            " [9.99930084e-01]\n",
            " [9.62408662e-01]\n",
            " [6.91522472e-03]\n",
            " [3.67114425e-01]\n",
            " [5.19640408e-02]\n",
            " [1.78354502e-01]\n",
            " [8.77703656e-04]\n",
            " [3.67114425e-01]\n",
            " [9.92047369e-01]\n",
            " [7.77646422e-01]\n",
            " [2.67739415e-01]\n",
            " [1.02471933e-03]\n",
            " [6.51642919e-01]\n",
            " [4.50396150e-01]\n",
            " [2.19386548e-01]\n",
            " [4.91028398e-01]\n",
            " [9.66492474e-01]\n",
            " [8.10853779e-01]\n",
            " [8.36163938e-01]\n",
            " [3.67114425e-01]\n",
            " [2.37935305e-01]\n",
            " [7.80838549e-01]\n",
            " [9.38474059e-01]\n",
            " [1.38107222e-02]\n",
            " [9.01065581e-03]\n",
            " [5.70313334e-01]\n",
            " [1.78354502e-01]\n",
            " [1.41325116e-03]\n",
            " [1.37607579e-03]\n",
            " [3.42812836e-02]\n",
            " [2.49515861e-01]\n",
            " [3.74911577e-01]\n",
            " [4.05314177e-01]\n",
            " [1.35360464e-01]\n",
            " [2.78742285e-03]\n",
            " [5.57387829e-01]\n",
            " [7.31907436e-04]\n",
            " [7.77646422e-01]\n",
            " [7.80838549e-01]\n",
            " [8.99426714e-02]\n",
            " [4.27708309e-03]\n",
            " [8.50184619e-01]\n",
            " [9.80818510e-01]\n",
            " [4.41063583e-01]\n",
            " [8.65863264e-02]\n",
            " [1.02472026e-03]\n",
            " [4.05314088e-01]\n",
            " [4.53008525e-03]\n",
            " [8.82003829e-03]\n",
            " [9.98210847e-01]\n",
            " [2.68957049e-01]\n",
            " [1.37607579e-03]\n",
            " [9.88182902e-01]\n",
            " [5.34473360e-01]\n",
            " [1.02471933e-03]\n",
            " [9.50089693e-02]\n",
            " [8.88710737e-01]\n",
            " [6.25982404e-01]\n",
            " [4.06040519e-01]\n",
            " [1.38496188e-02]\n",
            " [5.09624124e-01]\n",
            " [3.45624477e-01]\n",
            " [7.69451678e-01]\n",
            " [1.15708016e-01]\n",
            " [1.13018500e-02]\n",
            " [4.81904438e-03]\n",
            " [3.03975795e-03]\n",
            " [8.47313225e-01]\n",
            " [1.01618841e-03]\n",
            " [9.23870265e-01]\n",
            " [7.84279183e-02]\n",
            " [1.15708016e-01]\n",
            " [6.51642919e-01]\n",
            " [4.86218125e-01]\n",
            " [6.91522472e-03]\n",
            " [9.91216183e-01]\n",
            " [8.53442967e-01]\n",
            " [8.73296678e-01]\n",
            " [7.33872056e-01]\n",
            " [2.68957049e-01]\n",
            " [1.00074885e-02]\n",
            " [2.93133227e-04]\n",
            " [4.57542725e-02]\n",
            " [9.96025741e-01]\n",
            " [3.70673686e-02]\n",
            " [5.86153746e-01]\n",
            " [5.72896659e-01]\n",
            " [2.40939558e-02]\n",
            " [8.85541558e-01]\n",
            " [4.27708309e-03]\n",
            " [7.22867548e-01]\n",
            " [1.28628135e-01]\n",
            " [9.17110920e-01]\n",
            " [8.50184619e-01]\n",
            " [9.17110920e-01]\n",
            " [9.91563082e-01]\n",
            " [4.98147495e-02]\n",
            " [7.88829744e-01]\n",
            " [9.35984671e-01]\n",
            " [6.11001670e-01]\n",
            " [8.05254996e-01]\n",
            " [9.43379879e-01]\n",
            " [2.47609848e-03]\n",
            " [5.04306793e-01]\n",
            " [5.73565781e-01]\n",
            " [1.54654915e-03]\n",
            " [1.06331848e-01]\n",
            " [6.67386055e-02]\n",
            " [8.77703656e-04]\n",
            " [7.42205560e-01]\n",
            " [5.97787619e-01]\n",
            " [5.34473360e-01]\n",
            " [6.44855678e-01]\n",
            " [2.19386429e-01]\n",
            " [2.93133227e-04]\n",
            " [9.92903829e-01]\n",
            " [9.96025741e-01]\n",
            " [3.42967734e-03]\n",
            " [9.97570276e-01]\n",
            " [2.08099067e-04]\n",
            " [5.73565781e-01]\n",
            " [9.97570276e-01]\n",
            " [6.11001670e-01]\n",
            " [4.63948876e-01]\n",
            " [8.61866236e-01]\n",
            " [8.80962551e-01]\n",
            " [3.32964249e-02]\n",
            " [3.56283754e-01]\n",
            " [8.93567681e-01]\n",
            " [1.35360464e-01]\n",
            " [8.79450142e-01]\n",
            " [5.03145754e-01]\n",
            " [9.04168561e-03]\n",
            " [4.91028398e-01]\n",
            " [1.37607579e-03]\n",
            " [4.90620136e-01]\n",
            " [4.63948876e-01]\n",
            " [8.94001275e-02]\n",
            " [4.80051711e-02]\n",
            " [7.84604669e-01]\n",
            " [6.44855678e-01]\n",
            " [3.78959291e-02]\n",
            " [9.01065581e-03]\n",
            " [5.70313334e-01]\n",
            " [9.56655502e-01]\n",
            " [3.70673686e-02]\n",
            " [3.70673686e-02]\n",
            " [9.97324511e-02]\n",
            " [7.00801164e-02]\n",
            " [5.86290359e-02]\n",
            " [1.32290330e-02]\n",
            " [8.55517238e-02]\n",
            " [8.79450142e-01]\n",
            " [9.50089693e-02]\n",
            " [5.02633989e-01]\n",
            " [9.70880270e-01]\n",
            " [1.09785589e-07]\n",
            " [8.30745757e-01]\n",
            " [9.66492474e-01]\n",
            " [9.99618709e-01]\n",
            " [2.09074788e-04]\n",
            " [5.86153746e-01]\n",
            " [9.36026216e-01]\n",
            " [9.75503266e-01]\n",
            " [1.72680337e-03]\n",
            " [6.20091677e-01]\n",
            " [5.57387829e-01]\n",
            " [5.31807303e-01]\n",
            " [9.43379879e-01]\n",
            " [8.10853779e-01]\n",
            " [8.50184619e-01]\n",
            " [5.84671438e-01]\n",
            " [9.20574427e-01]\n",
            " [9.54806387e-01]\n",
            " [3.45624387e-01]\n",
            " [6.49546623e-01]\n",
            " [5.57387829e-01]\n",
            " [4.27708309e-03]\n",
            " [1.05745934e-01]\n",
            " [8.69237006e-01]\n",
            " [1.25066633e-03]\n",
            " [9.65534508e-01]\n",
            " [9.70561504e-01]\n",
            " [2.82479733e-01]\n",
            " [6.75528765e-01]\n",
            " [9.70561504e-01]\n",
            " [1.36314882e-02]\n",
            " [2.17205614e-01]\n",
            " [3.78161930e-02]\n",
            " [3.76703113e-01]\n",
            " [9.65195894e-01]\n",
            " [4.85755861e-01]\n",
            " [5.73565781e-01]\n",
            " [6.75528765e-01]\n",
            " [7.40209445e-02]\n",
            " [9.99843240e-01]\n",
            " [4.86218125e-01]\n",
            " [4.80051711e-02]\n",
            " [1.06758811e-01]\n",
            " [3.88345420e-01]\n",
            " [5.86290359e-02]\n",
            " [4.89683986e-01]\n",
            " [3.42967734e-03]\n",
            " [4.92637128e-01]\n",
            " [4.81904438e-03]\n",
            " [4.57542352e-02]\n",
            " [9.48993802e-01]\n",
            " [6.73171937e-01]\n",
            " [7.22703278e-01]\n",
            " [8.05254996e-01]\n",
            " [4.23387021e-01]\n",
            " [2.69534718e-03]\n",
            " [5.04306793e-01]\n",
            " [6.49546623e-01]\n",
            " [3.10866952e-01]\n",
            " [5.66743374e-01]\n",
            " [7.84604669e-01]\n",
            " [9.04168561e-03]\n",
            " [1.38496188e-02]\n",
            " [1.53252259e-01]\n",
            " [5.21168374e-02]\n",
            " [9.43170607e-01]\n",
            " [1.71393737e-01]\n",
            " [3.16548795e-01]\n",
            " [1.67216077e-01]\n",
            " [9.99897003e-01]\n",
            " [7.49632344e-02]\n",
            " [5.29074110e-03]\n",
            " [7.22867548e-01]\n",
            " [3.35559659e-02]\n",
            " [9.96025741e-01]\n",
            " [7.33595848e-01]\n",
            " [7.07763359e-02]\n",
            " [8.88710737e-01]\n",
            " [7.52156018e-04]\n",
            " [3.07588667e-01]\n",
            " [2.09074788e-04]\n",
            " [1.06331810e-01]\n",
            " [9.85609472e-01]\n",
            " [8.72361101e-03]]\n"
          ]
        }
      ],
      "source": [
        "model.compile(optimizer='adam',\n",
        "              loss='binary_crossentropy',\n",
        "              metrics=['accuracy'])\n",
        "model.fit(x_train,y_train, epochs=100)\n",
        "print(model.predict(x_test))"
      ]
    },
    {
      "cell_type": "code",
      "execution_count": 36,
      "metadata": {
        "colab": {
          "base_uri": "https://localhost:8080/"
        },
        "id": "IGn-V5GpVhTo",
        "outputId": "2ddb92ca-4c41-413f-cdc9-70fbdea56662"
      },
      "outputs": [
        {
          "output_type": "stream",
          "name": "stdout",
          "text": [
            "9/9 [==============================] - 0s 2ms/step - loss: 0.3938 - accuracy: 0.7860\n",
            "Loss : 39.38%\n",
            "Accuracy : 78.60%\n"
          ]
        }
      ],
      "source": [
        "loss, accuracy = model.evaluate(x_test, y_test)\n",
        "print(f\"Loss : {loss * 100:.2f}%\")\n",
        "print(f\"Accuracy : {accuracy * 100:.2f}%\")"
      ]
    },
    {
      "cell_type": "code",
      "source": [],
      "metadata": {
        "id": "Dv14_ug4bYJf"
      },
      "execution_count": 36,
      "outputs": []
    }
  ],
  "metadata": {
    "kernelspec": {
      "display_name": "base",
      "language": "python",
      "name": "python3"
    },
    "language_info": {
      "codemirror_mode": {
        "name": "ipython",
        "version": 3
      },
      "file_extension": ".py",
      "mimetype": "text/x-python",
      "name": "python",
      "nbconvert_exporter": "python",
      "pygments_lexer": "ipython3",
      "version": "3.11.3"
    },
    "orig_nbformat": 4,
    "colab": {
      "provenance": []
    }
  },
  "nbformat": 4,
  "nbformat_minor": 0
}